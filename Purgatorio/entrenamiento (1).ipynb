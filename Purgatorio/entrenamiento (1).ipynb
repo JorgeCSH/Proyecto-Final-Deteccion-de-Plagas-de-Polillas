{
  "nbformat": 4,
  "nbformat_minor": 0,
  "metadata": {
    "colab": {
      "provenance": [],
      "gpuType": "T4"
    },
    "kernelspec": {
      "name": "python3",
      "display_name": "Python 3"
    },
    "language_info": {
      "name": "python"
    },
    "accelerator": "GPU"
  },
  "cells": [
    {
      "cell_type": "markdown",
      "source": [
        "#Deteccion de polillas"
      ],
      "metadata": {
        "id": "Em4dAg99in8E"
      }
    },
    {
      "cell_type": "markdown",
      "source": [
        "# Dataset"
      ],
      "metadata": {
        "id": "uhF7EroQexlp"
      }
    },
    {
      "cell_type": "code",
      "source": [
        "from google.colab import drive\n",
        "drive.mount('/content/drive')"
      ],
      "metadata": {
        "id": "bgkFq2NlFsEC",
        "colab": {
          "base_uri": "https://localhost:8080/"
        },
        "outputId": "e882632e-12f0-4562-b711-6b5de1a65644"
      },
      "execution_count": 3,
      "outputs": [
        {
          "output_type": "stream",
          "name": "stdout",
          "text": [
            "Mounted at /content/drive\n"
          ]
        }
      ]
    },
    {
      "cell_type": "code",
      "source": [
        "from google.colab import files\n",
        "files.download(\"/content/weights.zip\")"
      ],
      "metadata": {
        "id": "K1w6IFk2egSs"
      },
      "execution_count": null,
      "outputs": []
    },
    {
      "cell_type": "markdown",
      "source": [
        "# Instalacion YoloV8"
      ],
      "metadata": {
        "id": "-bI-qdFWfreh"
      }
    },
    {
      "cell_type": "code",
      "source": [
        "%pip install ultralytics\n",
        "import ultralytics\n",
        "ultralytics.checks()"
      ],
      "metadata": {
        "id": "MtEfx7ATWHgK",
        "colab": {
          "base_uri": "https://localhost:8080/"
        },
        "outputId": "d59aced6-47f0-442b-d876-8d72f956795c"
      },
      "execution_count": 1,
      "outputs": [
        {
          "output_type": "stream",
          "name": "stdout",
          "text": [
            "Ultralytics YOLOv8.0.220 🚀 Python-3.10.12 torch-2.1.0+cu118 CUDA:0 (Tesla T4, 15102MiB)\n",
            "Setup complete ✅ (2 CPUs, 12.7 GB RAM, 26.9/78.2 GB disk)\n"
          ]
        }
      ]
    },
    {
      "cell_type": "markdown",
      "source": [
        "# Entrenamiento"
      ],
      "metadata": {
        "id": "CBwMoJ24fxqB"
      }
    },
    {
      "cell_type": "code",
      "source": [
        "import os\n",
        "import sys\n",
        "os.environ[\"PYTHONPATH\"]=\"/content/drive/MyDrive/YOLOv8\"\n",
        "\n",
        "# Modelo m, 30 epocas\n",
        "!yolo train model=yolov8n.pt data=/content/drive/MyDrive/Datasets/Dataset_Cydia_Malo/dataset.yaml epochs=30 imgsz=1920\n",
        "# Modelo x, 30 epocas\n",
        "\n",
        "# Modelo m, 200 epocas\n",
        "\n",
        "#Modelo x, 200 epocas"
      ],
      "metadata": {
        "id": "1OFHzmr0WzVJ",
        "colab": {
          "base_uri": "https://localhost:8080/"
        },
        "outputId": "154ec988-76ba-4b37-fc12-4af000fecd34"
      },
      "execution_count": 6,
      "outputs": [
        {
          "output_type": "stream",
          "name": "stdout",
          "text": [
            "Ultralytics YOLOv8.0.220 🚀 Python-3.10.12 torch-2.1.0+cu118 CUDA:0 (Tesla T4, 15102MiB)\n",
            "\u001b[34m\u001b[1mengine/trainer: \u001b[0mtask=detect, mode=train, model=yolov8n.pt, data=/content/drive/MyDrive/Datasets/Dataset_Cydia_Malo/dataset.yaml, epochs=30, patience=50, batch=16, imgsz=1920, save=True, save_period=-1, cache=False, device=None, workers=8, project=None, name=train4, exist_ok=False, pretrained=True, optimizer=auto, verbose=True, seed=0, deterministic=True, single_cls=False, rect=False, cos_lr=False, close_mosaic=10, resume=False, amp=True, fraction=1.0, profile=False, freeze=None, overlap_mask=True, mask_ratio=4, dropout=0.0, val=True, split=val, save_json=False, save_hybrid=False, conf=None, iou=0.7, max_det=300, half=False, dnn=False, plots=True, source=None, vid_stride=1, stream_buffer=False, visualize=False, augment=False, agnostic_nms=False, classes=None, retina_masks=False, show=False, save_frames=False, save_txt=False, save_conf=False, save_crop=False, show_labels=True, show_conf=True, show_boxes=True, line_width=None, format=torchscript, keras=False, optimize=False, int8=False, dynamic=False, simplify=False, opset=None, workspace=4, nms=False, lr0=0.01, lrf=0.01, momentum=0.937, weight_decay=0.0005, warmup_epochs=3.0, warmup_momentum=0.8, warmup_bias_lr=0.1, box=7.5, cls=0.5, dfl=1.5, pose=12.0, kobj=1.0, label_smoothing=0.0, nbs=64, hsv_h=0.015, hsv_s=0.7, hsv_v=0.4, degrees=0.0, translate=0.1, scale=0.5, shear=0.0, perspective=0.0, flipud=0.0, fliplr=0.5, mosaic=1.0, mixup=0.0, copy_paste=0.0, cfg=None, tracker=botsort.yaml, save_dir=runs/detect/train4\n",
            "2023-11-29 20:56:25.890183: E tensorflow/compiler/xla/stream_executor/cuda/cuda_dnn.cc:9342] Unable to register cuDNN factory: Attempting to register factory for plugin cuDNN when one has already been registered\n",
            "2023-11-29 20:56:25.890240: E tensorflow/compiler/xla/stream_executor/cuda/cuda_fft.cc:609] Unable to register cuFFT factory: Attempting to register factory for plugin cuFFT when one has already been registered\n",
            "2023-11-29 20:56:25.890279: E tensorflow/compiler/xla/stream_executor/cuda/cuda_blas.cc:1518] Unable to register cuBLAS factory: Attempting to register factory for plugin cuBLAS when one has already been registered\n",
            "Overriding model.yaml nc=80 with nc=1\n",
            "\n",
            "                   from  n    params  module                                       arguments                     \n",
            "  0                  -1  1       464  ultralytics.nn.modules.conv.Conv             [3, 16, 3, 2]                 \n",
            "  1                  -1  1      4672  ultralytics.nn.modules.conv.Conv             [16, 32, 3, 2]                \n",
            "  2                  -1  1      7360  ultralytics.nn.modules.block.C2f             [32, 32, 1, True]             \n",
            "  3                  -1  1     18560  ultralytics.nn.modules.conv.Conv             [32, 64, 3, 2]                \n",
            "  4                  -1  2     49664  ultralytics.nn.modules.block.C2f             [64, 64, 2, True]             \n",
            "  5                  -1  1     73984  ultralytics.nn.modules.conv.Conv             [64, 128, 3, 2]               \n",
            "  6                  -1  2    197632  ultralytics.nn.modules.block.C2f             [128, 128, 2, True]           \n",
            "  7                  -1  1    295424  ultralytics.nn.modules.conv.Conv             [128, 256, 3, 2]              \n",
            "  8                  -1  1    460288  ultralytics.nn.modules.block.C2f             [256, 256, 1, True]           \n",
            "  9                  -1  1    164608  ultralytics.nn.modules.block.SPPF            [256, 256, 5]                 \n",
            " 10                  -1  1         0  torch.nn.modules.upsampling.Upsample         [None, 2, 'nearest']          \n",
            " 11             [-1, 6]  1         0  ultralytics.nn.modules.conv.Concat           [1]                           \n",
            " 12                  -1  1    148224  ultralytics.nn.modules.block.C2f             [384, 128, 1]                 \n",
            " 13                  -1  1         0  torch.nn.modules.upsampling.Upsample         [None, 2, 'nearest']          \n",
            " 14             [-1, 4]  1         0  ultralytics.nn.modules.conv.Concat           [1]                           \n",
            " 15                  -1  1     37248  ultralytics.nn.modules.block.C2f             [192, 64, 1]                  \n",
            " 16                  -1  1     36992  ultralytics.nn.modules.conv.Conv             [64, 64, 3, 2]                \n",
            " 17            [-1, 12]  1         0  ultralytics.nn.modules.conv.Concat           [1]                           \n",
            " 18                  -1  1    123648  ultralytics.nn.modules.block.C2f             [192, 128, 1]                 \n",
            " 19                  -1  1    147712  ultralytics.nn.modules.conv.Conv             [128, 128, 3, 2]              \n",
            " 20             [-1, 9]  1         0  ultralytics.nn.modules.conv.Concat           [1]                           \n",
            " 21                  -1  1    493056  ultralytics.nn.modules.block.C2f             [384, 256, 1]                 \n",
            " 22        [15, 18, 21]  1    751507  ultralytics.nn.modules.head.Detect           [1, [64, 128, 256]]           \n",
            "Model summary: 225 layers, 3011043 parameters, 3011027 gradients, 8.2 GFLOPs\n",
            "\n",
            "Transferred 319/355 items from pretrained weights\n",
            "\u001b[34m\u001b[1mTensorBoard: \u001b[0mStart with 'tensorboard --logdir runs/detect/train4', view at http://localhost:6006/\n",
            "Freezing layer 'model.22.dfl.conv.weight'\n",
            "\u001b[34m\u001b[1mAMP: \u001b[0mrunning Automatic Mixed Precision (AMP) checks with YOLOv8n...\n",
            "\u001b[34m\u001b[1mAMP: \u001b[0mchecks passed ✅\n",
            "\u001b[34m\u001b[1mtrain: \u001b[0mScanning /content/drive/MyDrive/Datasets/Dataset_Cydia_Malo/train/labels... 98 images, 1 backgrounds, 0 corrupt: 100% 98/98 [01:14<00:00,  1.32it/s]\n",
            "\u001b[34m\u001b[1mtrain: \u001b[0mNew cache created: /content/drive/MyDrive/Datasets/Dataset_Cydia_Malo/train/labels.cache\n",
            "\u001b[34m\u001b[1malbumentations: \u001b[0mBlur(p=0.01, blur_limit=(3, 7)), MedianBlur(p=0.01, blur_limit=(3, 7)), ToGray(p=0.01), CLAHE(p=0.01, clip_limit=(1, 4.0), tile_grid_size=(8, 8))\n",
            "\u001b[34m\u001b[1mval: \u001b[0mScanning /content/drive/MyDrive/Datasets/Dataset_Cydia_Malo/val/labels... 25 images, 0 backgrounds, 0 corrupt: 100% 25/25 [00:18<00:00,  1.37it/s]\n",
            "\u001b[34m\u001b[1mval: \u001b[0mNew cache created: /content/drive/MyDrive/Datasets/Dataset_Cydia_Malo/val/labels.cache\n",
            "Plotting labels to runs/detect/train4/labels.jpg... \n",
            "\u001b[34m\u001b[1moptimizer:\u001b[0m 'optimizer=auto' found, ignoring 'lr0=0.01' and 'momentum=0.937' and determining best 'optimizer', 'lr0' and 'momentum' automatically... \n",
            "\u001b[34m\u001b[1moptimizer:\u001b[0m AdamW(lr=0.002, momentum=0.9) with parameter groups 57 weight(decay=0.0), 64 weight(decay=0.0005), 63 bias(decay=0.0)\n",
            "Image sizes 1920 train, 1920 val\n",
            "Using 2 dataloader workers\n",
            "Logging results to \u001b[1mruns/detect/train4\u001b[0m\n",
            "Starting training for 30 epochs...\n",
            "\n",
            "      Epoch    GPU_mem   box_loss   cls_loss   dfl_loss  Instances       Size\n",
            "  0% 0/7 [00:00<?, ?it/s]\n",
            "Traceback (most recent call last):\n",
            "  File \"/usr/local/bin/yolo\", line 8, in <module>\n",
            "    sys.exit(entrypoint())\n",
            "  File \"/usr/local/lib/python3.10/dist-packages/ultralytics/cfg/__init__.py\", line 448, in entrypoint\n",
            "    getattr(model, mode)(**overrides)  # default args from model\n",
            "  File \"/usr/local/lib/python3.10/dist-packages/ultralytics/engine/model.py\", line 338, in train\n",
            "    self.trainer.train()\n",
            "  File \"/usr/local/lib/python3.10/dist-packages/ultralytics/engine/trainer.py\", line 190, in train\n",
            "    self._do_train(world_size)\n",
            "  File \"/usr/local/lib/python3.10/dist-packages/ultralytics/engine/trainer.py\", line 337, in _do_train\n",
            "    self.loss, self.loss_items = self.model(batch)\n",
            "  File \"/usr/local/lib/python3.10/dist-packages/torch/nn/modules/module.py\", line 1518, in _wrapped_call_impl\n",
            "    return self._call_impl(*args, **kwargs)\n",
            "  File \"/usr/local/lib/python3.10/dist-packages/torch/nn/modules/module.py\", line 1527, in _call_impl\n",
            "    return forward_call(*args, **kwargs)\n",
            "  File \"/usr/local/lib/python3.10/dist-packages/ultralytics/nn/tasks.py\", line 41, in forward\n",
            "    return self.loss(x, *args, **kwargs)\n",
            "  File \"/usr/local/lib/python3.10/dist-packages/ultralytics/nn/tasks.py\", line 212, in loss\n",
            "    return self.criterion(preds, batch)\n",
            "  File \"/usr/local/lib/python3.10/dist-packages/ultralytics/utils/loss.py\", line 188, in __call__\n",
            "    _, target_bboxes, target_scores, fg_mask, _ = self.assigner(\n",
            "  File \"/usr/local/lib/python3.10/dist-packages/torch/nn/modules/module.py\", line 1518, in _wrapped_call_impl\n",
            "    return self._call_impl(*args, **kwargs)\n",
            "  File \"/usr/local/lib/python3.10/dist-packages/torch/nn/modules/module.py\", line 1527, in _call_impl\n",
            "    return forward_call(*args, **kwargs)\n",
            "  File \"/usr/local/lib/python3.10/dist-packages/torch/utils/_contextlib.py\", line 115, in decorate_context\n",
            "    return func(*args, **kwargs)\n",
            "  File \"/usr/local/lib/python3.10/dist-packages/ultralytics/utils/tal.py\", line 115, in forward\n",
            "    mask_pos, align_metric, overlaps = self.get_pos_mask(pd_scores, pd_bboxes, gt_labels, gt_bboxes, anc_points,\n",
            "  File \"/usr/local/lib/python3.10/dist-packages/ultralytics/utils/tal.py\", line 134, in get_pos_mask\n",
            "    mask_in_gts = select_candidates_in_gts(anc_points, gt_bboxes)\n",
            "  File \"/usr/local/lib/python3.10/dist-packages/ultralytics/utils/tal.py\", line 26, in select_candidates_in_gts\n",
            "    bbox_deltas = torch.cat((xy_centers[None] - lt, rb - xy_centers[None]), dim=2).view(bs, n_boxes, n_anchors, -1)\n",
            "torch.cuda.OutOfMemoryError: CUDA out of memory. Tried to allocate 666.00 MiB. GPU 0 has a total capacty of 14.75 GiB of which 242.81 MiB is free. Process 26042 has 14.51 GiB memory in use. Of the allocated memory 14.12 GiB is allocated by PyTorch, and 206.37 MiB is reserved by PyTorch but unallocated. If reserved but unallocated memory is large try setting max_split_size_mb to avoid fragmentation.  See documentation for Memory Management and PYTORCH_CUDA_ALLOC_CONF\n"
          ]
        }
      ]
    },
    {
      "cell_type": "markdown",
      "source": [
        "# Revisión y descargas"
      ],
      "metadata": {
        "id": "xLzA0Scaf1gw"
      }
    },
    {
      "cell_type": "code",
      "source": [
        "!yolo predict model='/content/runs/detect/train8/weights/best.pt' source='/content/drive/MyDrive/Paulo/cydia_44/cydia_44/12.jpeg'"
      ],
      "metadata": {
        "colab": {
          "base_uri": "https://localhost:8080/"
        },
        "id": "9xMWDiKRbISu",
        "outputId": "feb0270a-6fdd-429a-ec21-afdd2f41a153"
      },
      "execution_count": null,
      "outputs": [
        {
          "output_type": "stream",
          "name": "stdout",
          "text": [
            "Ultralytics YOLOv8.0.219 🚀 Python-3.10.12 torch-2.1.0+cu118 CUDA:0 (Tesla T4, 15102MiB)\n",
            "Model summary (fused): 218 layers, 25840339 parameters, 0 gradients, 78.7 GFLOPs\n",
            "\n",
            "image 1/1 /content/drive/MyDrive/Paulo/cydia_44/cydia_44/12.jpeg: 480x640 18 Cydia Pomonellas, 83.4ms\n",
            "Speed: 4.2ms preprocess, 83.4ms inference, 79.4ms postprocess per image at shape (1, 3, 480, 640)\n",
            "Results saved to \u001b[1mruns/detect/predict2\u001b[0m\n",
            "💡 Learn more at https://docs.ultralytics.com/modes/predict\n"
          ]
        }
      ]
    },
    {
      "cell_type": "code",
      "source": [
        "!zip -r \"/content/drive/MyDrive/Datasets/entrenamientos2\" \"/content/runs\""
      ],
      "metadata": {
        "id": "dlgVvJ0tdPIQ",
        "colab": {
          "base_uri": "https://localhost:8080/"
        },
        "outputId": "ee3a8145-2709-40f9-f3af-d130d899d0af"
      },
      "execution_count": null,
      "outputs": [
        {
          "output_type": "stream",
          "name": "stdout",
          "text": [
            "  adding: content/runs/ (stored 0%)\n",
            "  adding: content/runs/detect/ (stored 0%)\n",
            "  adding: content/runs/detect/train4/ (stored 0%)\n",
            "  adding: content/runs/detect/train4/results.png (deflated 8%)\n",
            "  adding: content/runs/detect/train4/P_curve.png (deflated 18%)\n",
            "  adding: content/runs/detect/train4/train_batch102.jpg (deflated 12%)\n",
            "  adding: content/runs/detect/train4/weights/ (stored 0%)\n",
            "  adding: content/runs/detect/train4/weights/last.pt (deflated 8%)\n",
            "  adding: content/runs/detect/train4/weights/best.pt (deflated 8%)\n",
            "  adding: content/runs/detect/train4/confusion_matrix.png (deflated 34%)\n",
            "  adding: content/runs/detect/train4/confusion_matrix_normalized.png (deflated 35%)\n",
            "  adding: content/runs/detect/train4/F1_curve.png (deflated 17%)\n",
            "  adding: content/runs/detect/train4/labels_correlogram.jpg (deflated 40%)\n",
            "  adding: content/runs/detect/train4/train_batch2.jpg (deflated 3%)\n",
            "  adding: content/runs/detect/train4/events.out.tfevents.1701266911.71beb3565766.20576.0 (deflated 93%)\n",
            "  adding: content/runs/detect/train4/val_batch0_pred.jpg (deflated 5%)\n",
            "  adding: content/runs/detect/train4/results.csv (deflated 86%)\n",
            "  adding: content/runs/detect/train4/train_batch100.jpg (deflated 10%)\n",
            "  adding: content/runs/detect/train4/val_batch2_pred.jpg (deflated 7%)\n",
            "  adding: content/runs/detect/train4/train_batch1.jpg (deflated 3%)\n",
            "  adding: content/runs/detect/train4/val_batch2_labels.jpg (deflated 7%)\n",
            "  adding: content/runs/detect/train4/val_batch0_labels.jpg (deflated 5%)\n",
            "  adding: content/runs/detect/train4/R_curve.png (deflated 17%)\n",
            "  adding: content/runs/detect/train4/val_batch1_labels.jpg (deflated 5%)\n",
            "  adding: content/runs/detect/train4/train_batch0.jpg (deflated 3%)\n",
            "  adding: content/runs/detect/train4/args.yaml (deflated 51%)\n",
            "  adding: content/runs/detect/train4/train_batch101.jpg (deflated 9%)\n",
            "  adding: content/runs/detect/train4/val_batch1_pred.jpg (deflated 4%)\n",
            "  adding: content/runs/detect/train4/labels.jpg (deflated 31%)\n",
            "  adding: content/runs/detect/train4/PR_curve.png (deflated 20%)\n",
            "  adding: content/runs/detect/train/ (stored 0%)\n",
            "  adding: content/runs/detect/train/results.png (deflated 6%)\n",
            "  adding: content/runs/detect/train/P_curve.png (deflated 20%)\n",
            "  adding: content/runs/detect/train/train_batch102.jpg (deflated 12%)\n",
            "  adding: content/runs/detect/train/weights/ (stored 0%)\n",
            "  adding: content/runs/detect/train/weights/last.pt (deflated 8%)\n",
            "  adding: content/runs/detect/train/weights/best.pt (deflated 8%)\n",
            "  adding: content/runs/detect/train/confusion_matrix.png (deflated 33%)\n",
            "  adding: content/runs/detect/train/events.out.tfevents.1701262365.71beb3565766.931.0 (deflated 93%)\n",
            "  adding: content/runs/detect/train/confusion_matrix_normalized.png (deflated 34%)\n",
            "  adding: content/runs/detect/train/F1_curve.png (deflated 21%)\n",
            "  adding: content/runs/detect/train/labels_correlogram.jpg (deflated 40%)\n",
            "  adding: content/runs/detect/train/train_batch2.jpg (deflated 3%)\n",
            "  adding: content/runs/detect/train/results.csv (deflated 85%)\n",
            "  adding: content/runs/detect/train/train_batch100.jpg (deflated 10%)\n",
            "  adding: content/runs/detect/train/val_batch2_pred.jpg (deflated 6%)\n",
            "  adding: content/runs/detect/train/train_batch1.jpg (deflated 3%)\n",
            "  adding: content/runs/detect/train/val_batch2_labels.jpg (deflated 7%)\n",
            "  adding: content/runs/detect/train/val_batch0_labels.jpg (deflated 5%)\n",
            "  adding: content/runs/detect/train/R_curve.png (deflated 20%)\n",
            "  adding: content/runs/detect/train/val_batch1_labels.jpg (deflated 5%)\n",
            "  adding: content/runs/detect/train/train_batch0.jpg (deflated 3%)\n",
            "  adding: content/runs/detect/train/args.yaml (deflated 51%)\n",
            "  adding: content/runs/detect/train/train_batch101.jpg (deflated 9%)\n",
            "  adding: content/runs/detect/train/labels.jpg (deflated 31%)\n",
            "  adding: content/runs/detect/train/PR_curve.png (deflated 19%)\n",
            "  adding: content/runs/detect/train3/ (stored 0%)\n",
            "  adding: content/runs/detect/train3/train_batch452.jpg (deflated 10%)\n",
            "  adding: content/runs/detect/train3/results.png (deflated 7%)\n",
            "  adding: content/runs/detect/train3/events.out.tfevents.1701264517.71beb3565766.10290.0 (deflated 89%)\n",
            "  adding: content/runs/detect/train3/P_curve.png (deflated 19%)\n",
            "  adding: content/runs/detect/train3/weights/ (stored 0%)\n",
            "  adding: content/runs/detect/train3/weights/last.pt (deflated 8%)\n",
            "  adding: content/runs/detect/train3/weights/best.pt (deflated 8%)\n",
            "  adding: content/runs/detect/train3/confusion_matrix.png (deflated 34%)\n",
            "  adding: content/runs/detect/train3/confusion_matrix_normalized.png (deflated 35%)\n",
            "  adding: content/runs/detect/train3/F1_curve.png (deflated 17%)\n",
            "  adding: content/runs/detect/train3/train_batch450.jpg (deflated 13%)\n",
            "  adding: content/runs/detect/train3/labels_correlogram.jpg (deflated 40%)\n",
            "  adding: content/runs/detect/train3/train_batch2.jpg (deflated 3%)\n",
            "  adding: content/runs/detect/train3/val_batch0_pred.jpg (deflated 5%)\n",
            "  adding: content/runs/detect/train3/results.csv (deflated 85%)\n",
            "  adding: content/runs/detect/train3/val_batch2_pred.jpg (deflated 7%)\n",
            "  adding: content/runs/detect/train3/train_batch1.jpg (deflated 3%)\n",
            "  adding: content/runs/detect/train3/val_batch2_labels.jpg (deflated 7%)\n",
            "  adding: content/runs/detect/train3/val_batch0_labels.jpg (deflated 5%)\n",
            "  adding: content/runs/detect/train3/R_curve.png (deflated 17%)\n",
            "  adding: content/runs/detect/train3/val_batch1_labels.jpg (deflated 5%)\n",
            "  adding: content/runs/detect/train3/train_batch0.jpg (deflated 3%)\n",
            "  adding: content/runs/detect/train3/args.yaml (deflated 51%)\n",
            "  adding: content/runs/detect/train3/train_batch451.jpg (deflated 8%)\n",
            "  adding: content/runs/detect/train3/val_batch1_pred.jpg (deflated 4%)\n",
            "  adding: content/runs/detect/train3/labels.jpg (deflated 31%)\n",
            "  adding: content/runs/detect/train3/PR_curve.png (deflated 23%)\n",
            "  adding: content/runs/detect/train2/ (stored 0%)\n",
            "  adding: content/runs/detect/train2/results.png (deflated 5%)\n",
            "  adding: content/runs/detect/train2/P_curve.png (deflated 18%)\n",
            "  adding: content/runs/detect/train2/train_batch102.jpg (deflated 12%)\n",
            "  adding: content/runs/detect/train2/weights/ (stored 0%)\n",
            "  adding: content/runs/detect/train2/weights/last.pt (deflated 8%)\n",
            "  adding: content/runs/detect/train2/weights/best.pt (deflated 8%)\n",
            "  adding: content/runs/detect/train2/confusion_matrix.png (deflated 34%)\n",
            "  adding: content/runs/detect/train2/confusion_matrix_normalized.png (deflated 34%)\n",
            "  adding: content/runs/detect/train2/F1_curve.png (deflated 17%)\n",
            "  adding: content/runs/detect/train2/labels_correlogram.jpg (deflated 40%)\n",
            "  adding: content/runs/detect/train2/train_batch2.jpg (deflated 3%)\n",
            "  adding: content/runs/detect/train2/val_batch0_pred.jpg (deflated 5%)\n",
            "  adding: content/runs/detect/train2/results.csv (deflated 83%)\n",
            "  adding: content/runs/detect/train2/train_batch100.jpg (deflated 10%)\n",
            "  adding: content/runs/detect/train2/val_batch2_pred.jpg (deflated 7%)\n",
            "  adding: content/runs/detect/train2/train_batch1.jpg (deflated 3%)\n",
            "  adding: content/runs/detect/train2/val_batch2_labels.jpg (deflated 7%)\n",
            "  adding: content/runs/detect/train2/val_batch0_labels.jpg (deflated 5%)\n",
            "  adding: content/runs/detect/train2/R_curve.png (deflated 17%)\n",
            "  adding: content/runs/detect/train2/val_batch1_labels.jpg (deflated 5%)\n",
            "  adding: content/runs/detect/train2/events.out.tfevents.1701263668.71beb3565766.6600.0 (deflated 92%)\n",
            "  adding: content/runs/detect/train2/train_batch0.jpg (deflated 3%)\n",
            "  adding: content/runs/detect/train2/args.yaml (deflated 51%)\n",
            "  adding: content/runs/detect/train2/train_batch101.jpg (deflated 9%)\n",
            "  adding: content/runs/detect/train2/val_batch1_pred.jpg (deflated 4%)\n",
            "  adding: content/runs/detect/train2/labels.jpg (deflated 31%)\n",
            "  adding: content/runs/detect/train2/PR_curve.png (deflated 21%)\n"
          ]
        }
      ]
    },
    {
      "cell_type": "markdown",
      "source": [
        "# Varios"
      ],
      "metadata": {
        "id": "74hcHzUegiCh"
      }
    },
    {
      "cell_type": "markdown",
      "source": [
        "- Falta ordenar distintos entrenamientos\n",
        "- Encontrar detalles en la curva PR\n",
        "- Crear una carpeta test\n",
        "- Revisar porcentajes de labelme2yolo\n",
        "- Agrandar dataset\n",
        "- Revisar entrenamientos con las imagenes de otra raza\n",
        "- Realizar script con transformaciones de imagenes\n"
      ],
      "metadata": {
        "id": "FRX4hUbugmsR"
      }
    }
  ]
}