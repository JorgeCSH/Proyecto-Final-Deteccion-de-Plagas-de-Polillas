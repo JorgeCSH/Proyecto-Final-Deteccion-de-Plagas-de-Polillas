{
  "nbformat": 4,
  "nbformat_minor": 0,
  "metadata": {
    "colab": {
      "provenance": [],
      "gpuType": "T4",
      "collapsed_sections": [
        "uhF7EroQexlp"
      ],
      "include_colab_link": true
    },
    "kernelspec": {
      "name": "python3",
      "display_name": "Python 3"
    },
    "language_info": {
      "name": "python"
    },
    "accelerator": "GPU"
  },
  "cells": [
    {
      "cell_type": "markdown",
      "metadata": {
        "id": "view-in-github",
        "colab_type": "text"
      },
      "source": [
        "<a href=\"https://colab.research.google.com/github/JorgeCSH/Proyecto-Final-Deteccion-de-Plagas-de-Polillas/blob/main/EntrenamientoNotebook.ipynb\" target=\"_parent\"><img src=\"https://colab.research.google.com/assets/colab-badge.svg\" alt=\"Open In Colab\"/></a>"
      ]
    },
    {
      "cell_type": "markdown",
      "source": [
        "# Deteccion de polillas."
      ],
      "metadata": {
        "id": "Em4dAg99in8E"
      }
    },
    {
      "cell_type": "markdown",
      "source": [
        "# Dataset\n",
        "Corresponde a la obtencion del dataset por parte de google colaboratory, esto de google drive."
      ],
      "metadata": {
        "id": "uhF7EroQexlp"
      }
    },
    {
      "cell_type": "code",
      "source": [
        "# Importar google drive\n",
        "from google.colab import drive\n",
        "drive.mount('/content/drive')\n"
      ],
      "metadata": {
        "id": "bgkFq2NlFsEC"
      },
      "execution_count": null,
      "outputs": []
    },
    {
      "cell_type": "code",
      "source": [
        "# Importar archivos de google drive\n",
        "from google.colab import files\n",
        "files.download(\"/content/weights.zip\")\n"
      ],
      "metadata": {
        "id": "K1w6IFk2egSs"
      },
      "execution_count": null,
      "outputs": []
    },
    {
      "cell_type": "markdown",
      "source": [
        "# Instalacion YoloV8\n",
        "Para instalar la principal libreria utilizada."
      ],
      "metadata": {
        "id": "-bI-qdFWfreh"
      }
    },
    {
      "cell_type": "code",
      "source": [
        "# Instalacion de ultralytics\n",
        "%pip install ultralytics\n",
        "\n",
        "# Importar ultralytics\n",
        "import ultralytics\n",
        "ultralytics.checks()\n"
      ],
      "metadata": {
        "id": "MtEfx7ATWHgK"
      },
      "execution_count": null,
      "outputs": []
    },
    {
      "cell_type": "markdown",
      "source": [
        "# Entrenamiento\n",
        "Para entrenar el dataset utilizando YOLOv8 de ultralytics."
      ],
      "metadata": {
        "id": "CBwMoJ24fxqB"
      }
    },
    {
      "cell_type": "code",
      "source": [
        "# Importar el dataset\n",
        "import os\n",
        "import sys\n",
        "os.environ[\"PYTHONPATH\"]=\"/content/drive/MyDrive/YOLOv8\"\n",
        "\n",
        "# Ejemplo de entrenamiento, mas informacion en comentario inferior al comando\n",
        "# modelo: yolov8m, 30 epocas, tamando de 640 pixeles\n",
        "!yolo train model=yolov8m.pt data=/content/drive/MyDrive/Datasets/YOLODataset/dataset.yaml epochs=30 imgsz=640 optimizer=Adamax\n",
        "\"\"\"\n",
        "Codigo base (con ejemplo):\n",
        "!yolo train model=yolov8m.pt data=/content/drive/MyDrive/Datasets/YOLODataset/dataset.yaml epochs=100 imgsz=640 conf=0.5\n",
        "\n",
        "Informacion:\n",
        "model: Version de YOLOv8 que se quiera utilizar\n",
        "data: ubicacion del dataset, .yaml que interpreta las etiquetas\n",
        "epochs: epocas de entrenamiento (\"ciclos\")\n",
        "imgsz: tamano de imagen entrenada\n",
        "conf: validez minima para validar los resultado (el decimal expresa porcentaje, ej: 0.5 => 50%)\n",
        "\"\"\"\n"
      ],
      "metadata": {
        "id": "1OFHzmr0WzVJ"
      },
      "execution_count": null,
      "outputs": []
    },
    {
      "cell_type": "markdown",
      "source": [
        "# Revisión y descargas\n",
        "Para manipulacio (es decir, obtencion) de los resultados del entrenamiento."
      ],
      "metadata": {
        "id": "xLzA0Scaf1gw"
      }
    },
    {
      "cell_type": "code",
      "source": [
        "# Obtencion de resultados del entrenamiento\n",
        "!yolo predict model='/content/runs/detect/train13/weights/best.pt' source='/content/drive/MyDrive/Paulo/cydia_44/cydia_44/12.jpeg' conf=0.9\n"
      ],
      "metadata": {
        "id": "9xMWDiKRbISu"
      },
      "execution_count": null,
      "outputs": []
    },
    {
      "cell_type": "code",
      "source": [
        "# Exportar zip con los resultados\n",
        "!zip -r \"/content/drive/MyDrive/Datasets/entrenamientos_yyyyt\" \"/content/runs\"\n"
      ],
      "metadata": {
        "id": "dlgVvJ0tdPIQ"
      },
      "execution_count": null,
      "outputs": []
    }
  ]
}